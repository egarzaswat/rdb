{
 "cells": [
  {
   "cell_type": "code",
   "execution_count": 1,
   "id": "fbce8ead",
   "metadata": {},
   "outputs": [
    {
     "ename": "ImportError",
     "evalue": "attempted relative import with no known parent package",
     "output_type": "error",
     "traceback": [
      "\u001b[0;31m---------------------------------------------------------------------------\u001b[0m",
      "\u001b[0;31mImportError\u001b[0m                               Traceback (most recent call last)",
      "\u001b[0;32m/tmp/ipykernel_659/3508435826.py\u001b[0m in \u001b[0;36m<module>\u001b[0;34m\u001b[0m\n\u001b[1;32m     25\u001b[0m \u001b[0;32mimport\u001b[0m \u001b[0mscipy\u001b[0m\u001b[0;34m.\u001b[0m\u001b[0mcluster\u001b[0m\u001b[0;34m.\u001b[0m\u001b[0mhierarchy\u001b[0m \u001b[0;32mas\u001b[0m \u001b[0msch\u001b[0m\u001b[0;34m\u001b[0m\u001b[0;34m\u001b[0m\u001b[0m\n\u001b[1;32m     26\u001b[0m \u001b[0;32mfrom\u001b[0m \u001b[0mscipy\u001b[0m\u001b[0;34m.\u001b[0m\u001b[0mstats\u001b[0m \u001b[0;32mimport\u001b[0m \u001b[0mscoreatpercentile\u001b[0m\u001b[0;34m\u001b[0m\u001b[0;34m\u001b[0m\u001b[0m\n\u001b[0;32m---> 27\u001b[0;31m \u001b[0;32mfrom\u001b[0m \u001b[0;34m...\u001b[0m\u001b[0mpysca\u001b[0m \u001b[0;32mimport\u001b[0m \u001b[0mscaTools\u001b[0m \u001b[0;32mas\u001b[0m \u001b[0msca\u001b[0m\u001b[0;34m\u001b[0m\u001b[0;34m\u001b[0m\u001b[0m\n\u001b[0m\u001b[1;32m     28\u001b[0m \u001b[0;31m# import mpld3\u001b[0m\u001b[0;34m\u001b[0m\u001b[0;34m\u001b[0m\u001b[0m\n\u001b[1;32m     29\u001b[0m \u001b[0;32mimport\u001b[0m \u001b[0mpickle\u001b[0m \u001b[0;32mas\u001b[0m \u001b[0mpickle\u001b[0m\u001b[0;34m\u001b[0m\u001b[0;34m\u001b[0m\u001b[0m\n",
      "\u001b[0;31mImportError\u001b[0m: attempted relative import with no known parent package"
     ]
    }
   ],
   "source": [
    "#this defaults plots to matplotlib 1.0 formatting\n",
    "import matplotlib.style\n",
    "import matplotlib as mpl\n",
    "#mpl.style.use('classic')\n",
    "%matplotlib inline\n",
    "mpl.rcParams['figure.dpi']= 150\n",
    "\n",
    "# importing packages needed to run this script \n",
    "from subprocess import call\n",
    "import pickle as pickle\n",
    "%matplotlib inline\n",
    "import matplotlib.pyplot as plt\n",
    "import numpy as np\n",
    "import scipy.cluster.hierarchy as sch\n",
    "\n",
    "import os\n",
    "import time\n",
    "import matplotlib.pyplot as plt\n",
    "import numpy as np\n",
    "import copy\n",
    "import colorsys\n",
    "import matplotlib.image as mpimg\n",
    "from IPython.display import display\n",
    "from IPython.display import Image\n",
    "import scipy.cluster.hierarchy as sch\n",
    "from scipy.stats import scoreatpercentile \n",
    "from ...pysca import scaTools as sca\n",
    "# import mpld3\n",
    "import pickle as pickle\n",
    "from optparse import OptionParser\n",
    "\n",
    "%matplotlib inline\n",
    "\n",
    "if not os.path.exists('../output/'):\n",
    "    os.makedirs('../output/')  "
   ]
  },
  {
   "cell_type": "code",
   "execution_count": 2,
   "id": "2a18f892",
   "metadata": {},
   "outputs": [],
   "source": [
    "#Run utilities/file_parser.py on the blast file to generate the sequence of ids"
   ]
  },
  {
   "cell_type": "code",
   "execution_count": 16,
   "id": "1eeba10e",
   "metadata": {},
   "outputs": [],
   "source": [
    "# list of id numbers in ubiad1_blastmsa.aln\n",
    "\n",
    "f = open('../data/ubiad1_blastmsa.aln','r')\n",
    "\n",
    "ids = []\n",
    "for line in f.readlines():\n",
    "    \n",
    "    if line[0] == '>':\n",
    "        \n",
    "        sp_line = line.split('  ')\n",
    "        \n",
    "        ids.append(sp_line[0].split('|')[1])\n",
    "        \n",
    "f.close()\n",
    "\n",
    "f = open('../data/ubiad1_blastmsa_ids.txt.txt','w')\n",
    "for l in ids:\n",
    "    f.write(l+'\\n')\n",
    "    \n",
    "f.close()"
   ]
  },
  {
   "cell_type": "markdown",
   "id": "b79b18f8",
   "metadata": {},
   "source": [
    "amino acid sequence of UBIAD1\n",
    "MAASQVLGEKINILSGETVKAGDRDPLGNDCPEQDRLPQRSWRQKCASYVLALRPWSFSASLTPVALGSALAYRSHGVLDPRLLVGCAVAVLAVHGAGNLVNTYYDFSKGIDHKKSDDRTLVDRILEPQDVVRFGVFLYTLGCVCAACLYYLSPLKLEHLALIYFGGLSGSFLYTGGIGFKYVALGDLIILITFGPLAVMFAYAIQVGSLAIFPLVYAIPLALSTEAILHSNNTRDMESDREAGIVTLAILIGPTFSYILYNTLLFLPYLVFSILATHCTISLALPLLTIPMAFSLERQFRSQAFNKLPQRTAKLNLLLGLFYVFGIILAPAGSLPKI"
   ]
  },
  {
   "cell_type": "code",
   "execution_count": 40,
   "id": "a63bb3b0",
   "metadata": {},
   "outputs": [
    {
     "name": "stdout",
     "output_type": "stream",
     "text": [
      "python annotateMSA -i /home/bjohnson/pySCA-master/data/ubiad1msa100.aln -o /home/bjohnson/pySCA-master/output/ubia1_bj_211212.an -l /home/bjohnson/pySCA-master/data/ubiad1_blastmsa_ids.txt -a 'ncbi'\n"
     ]
    }
   ],
   "source": [
    "path2data = '/home/bjohnson/pySCA-master/data/ubiad1msa100.aln' \n",
    "path2output = '/home/bjohnson/pySCA-master/output/ubia1_bj_211212.an'\n",
    "gis = '/home/bjohnson/pySCA-master/data/ubiad1_blastmsa_ids.txt'\n",
    "print('python annotateMSA -i %s -o %s -l %s -a %s' % (path2data, path2output,gis, \"'ncbi'\"))"
   ]
  },
  {
   "cell_type": "markdown",
   "id": "71609818",
   "metadata": {},
   "source": [
    "When analyzing the NCBI alignment of DHFR, one of the import arguments was a list of ID numbers (one for each DHFR sequence in DHFR_PEPM3.fasta). The name of this file is DHFR_PEPM3.gis. The purpose of these ID numbers is so that the annotateMSA.py script can query the species information about the sequence. What you will need to do is to create an analagous file for ubia1_bj_211212.txt. How this will work is that you will read this alignment, parse the header for the id number (XP_012329129.1), and then write it to the gis file. It should be the same length as the total number of sequences and the id numbers should be in the same exact order as in the original alignment file. "
   ]
  },
  {
   "cell_type": "markdown",
   "id": "f08e8b38",
   "metadata": {},
   "source": [
    "### Running scaProcessMSA on annotated MSA of UBIAD1"
   ]
  },
  {
   "cell_type": "code",
   "execution_count": 12,
   "id": "ac585a4a",
   "metadata": {
    "scrolled": true
   },
   "outputs": [],
   "source": [
    "# this does not work \n",
    "path2aln_processed = '/home/bjohnson/pySCA-master/data/ubiad1msa100.aln'\n",
    "refseq = '/home/bjohnson/pySCA-master/data/ubiad1.fasta'\n",
    "pdb_id='4TQ6'\n",
    "path2out = '/home/bjohnson/pySCA-master/output/'\n",
    "\n",
    "#rint('python scaProcessMSA -a %s -d %s -s %s -c A' %(path2aln_processed,path2out,pdb_id))\n",
    "\n",
    "# -a takes output of annotateMSA, path2aln_processed\n",
    "# -d is where you want the result of scaProcessMSA to put a processed alignment\n",
    "# -s is the 4 character PDB ID\n",
    "# -b is path 2 pdb file\n"
   ]
  },
  {
   "cell_type": "code",
   "execution_count": 41,
   "id": "ae704acd",
   "metadata": {},
   "outputs": [
    {
     "name": "stdout",
     "output_type": "stream",
     "text": [
      "python scaProcessMSA -a /home/bjohnson/pySCA-master/data/ubiad1msa100.aln -d /home/bjohnson/pySCA-master/output/ -i 0\n"
     ]
    }
   ],
   "source": [
    "## this works\n",
    "\n",
    "# we keep getting a \"something wrong with pdb file or pdb file path so let's try a reference sequence. \n",
    "#Inputting the actual reference sequence (ubiad1.fasta) did not work because ...\n",
    "# the length of this sequence does not match the length of the sequences in ubiad1_blastmsa.aln\n",
    "# Instead, I used the --iref input argument. this specifies which sequence WITHIN the alignment you want to \n",
    "\n",
    "print ('python scaProcessMSA -a %s -d %s -i 0' % (path2aln_processed, path2out))"
   ]
  },
  {
   "cell_type": "markdown",
   "id": "5d96d09c",
   "metadata": {},
   "source": [
    "### command line output of scaProcessMSA"
   ]
  },
  {
   "cell_type": "raw",
   "id": "0b035c4e",
   "metadata": {},
   "source": [
    "python scaProcessMSA -a /home/bjohnson/pySCA-master/data/ubiad1_blastmsa.aln -d /home/bjohnson/pySCA-master/output/ -i 0\n",
    "Loaded alignment of 100 sequences, 338 positions.\n",
    "Checking alignment for non-standard amino acids\n",
    "Aligment size after removing sequences with non-standard amino acids: 98\n",
    "Trimming alignment for highly gapped positions (80% or more).\n",
    "Alignment size post-trimming: 338 positions\n",
    "Looking for PDBs in home/bjohnson/pySCA-master/data/\n",
    "using provided reference index 0\n",
    "ref|NP_037451.1|  [chromosome=1] [organism=Homo sapiens] [gcode=1] [chromosome=1] [map=1p36.22] ubiA prenyltransferase domain-containing protein 1 isoform 1 [Homo sapiens]\n",
    "here!\n",
    "len refseq 338, len refpos 338, len algseq 338, len pairalg 338, len gloalg 338\n",
    "Conducting sequence and position filtering: alignment size is 98 seqs, 338 pos\n",
    "ATS should also have 338 positions - ATS: 338\n",
    "Keeping 98 sequences of 98 sequences (after filtering for gaps)\n",
    "Keeping 98 sequences of 98 sequences (after filtering for seq similarity)\n",
    "After filtering: alignment size is 98 seqs, 0 effective seqs, 337 pos\n",
    "Final alignment parameters:\n",
    "Number of sequences: M = 98\n",
    "Number of effective sequences: M' = 0\n",
    "Number of alignment positions: L = 337\n",
    "Opening database file /home/bjohnson/pySCA-master/output/ubiad1_blastms"
   ]
  },
  {
   "cell_type": "markdown",
   "id": "d5cf3a90",
   "metadata": {},
   "source": [
    "### Running SCA core on annotated MSA of UBIAD1"
   ]
  },
  {
   "cell_type": "code",
   "execution_count": 42,
   "id": "fb16199f",
   "metadata": {},
   "outputs": [
    {
     "name": "stdout",
     "output_type": "stream",
     "text": [
      "python scaCore -i /home/bjohnson/pySCA-master/output/ubiad1msa100.db\n"
     ]
    }
   ],
   "source": [
    "path2db='/home/bjohnson/pySCA-master/output/ubiad1msa100.db'\n",
    "\n",
    "print('python scaCore -i %s' %(path2db))\n"
   ]
  },
  {
   "cell_type": "markdown",
   "id": "554f0a27",
   "metadata": {},
   "source": [
    "### commmand line output of scaCORE"
   ]
  },
  {
   "cell_type": "raw",
   "id": "b6257562",
   "metadata": {},
   "source": [
    "(py3.7) bjohnson@LAPTOP-LU4A6UOR:~/pySCA-master/bin$ python scaCore -i /home/bjohnson/pySCA-master/output/ubiad1_blastmsa.db\n",
    "Computing the sequence projections.\n",
    "Computing sequence similarity matrix.\n",
    "Computing the SCA conservation and correlation values.\n",
    "Computing matrix randomizations...\n",
    "Randomizations complete, 10 trials, time: 0.9 minutes\n",
    "Calculations complete, writing to database file /home/bjohnson/pySCA-master/output/ubiad1_blastmsa"
   ]
  },
  {
   "cell_type": "code",
   "execution_count": 43,
   "id": "4047ad24",
   "metadata": {},
   "outputs": [
    {
     "data": {
      "text/plain": [
       "dict_keys(['sequence', 'sca'])"
      ]
     },
     "execution_count": 43,
     "metadata": {},
     "output_type": "execute_result"
    }
   ],
   "source": [
    "Dseq = list(); Dsca = list(); Dsect = list()\n",
    "db = pickle.load(open('../output/ubiad1_blastmsa.db','rb'))\n",
    "Dseq.append(db['sequence'])\n",
    "Dsca.append(db['sca'])\n",
    "# Dsect.append(db['sector'])\n",
    "N_alg = 2\n",
    "AlgName = ['PFAM', 'Manual']\n",
    "db.keys()"
   ]
  },
  {
   "cell_type": "code",
   "execution_count": 52,
   "id": "cf50b35c",
   "metadata": {},
   "outputs": [
    {
     "name": "stdout",
     "output_type": "stream",
     "text": [
      "dict_keys(['alg', 'hd', 'msa_num', 'seqw', 'Nseq', 'Npos', 'ats', 'effseqs', 'limitseqs', 'NseqPrelimit', 'effseqsPrelimit', 'i_ref', 'trim_parameters', 'truncate_flag'])\n",
      "This alignment does not have enough effective sequences to confidently analyze with SCA.\n",
      "Npos (L) = 337\n"
     ]
    }
   ],
   "source": [
    "# print( 'The number of effective sequences in this MSA is: '+str(int(round(Dseq['effseqs']))))\n",
    "print(db['sequence'].keys())\n",
    "if db['sequence']['effseqs'] >= 100:\n",
    "    print ('This alignment has a sufficient number of effective sequences for analysis with SCA.')\n",
    "else:\n",
    "    print('This alignment does not have enough effective sequences to confidently analyze with SCA.')\n",
    "    \n",
    "print ('Npos (L) = '+ str(db['sequence']['Npos'])) "
   ]
  },
  {
   "cell_type": "code",
   "execution_count": 31,
   "id": "28d52637",
   "metadata": {},
   "outputs": [
    {
     "ename": "TypeError",
     "evalue": "list indices must be integers or slices, not str",
     "output_type": "error",
     "traceback": [
      "\u001b[0;31m---------------------------------------------------------------------------\u001b[0m",
      "\u001b[0;31mTypeError\u001b[0m                                 Traceback (most recent call last)",
      "\u001b[0;32m/tmp/ipykernel_880/2205535154.py\u001b[0m in \u001b[0;36m<module>\u001b[0;34m\u001b[0m\n\u001b[0;32m----> 1\u001b[0;31m \u001b[0mprint\u001b[0m\u001b[0;34m(\u001b[0m \u001b[0;34m'The number of effective sequences in this MSA is: '\u001b[0m\u001b[0;34m+\u001b[0m\u001b[0mstr\u001b[0m\u001b[0;34m(\u001b[0m\u001b[0mint\u001b[0m\u001b[0;34m(\u001b[0m\u001b[0mround\u001b[0m\u001b[0;34m(\u001b[0m\u001b[0mDseq\u001b[0m\u001b[0;34m[\u001b[0m\u001b[0;34m'effseqs'\u001b[0m\u001b[0;34m]\u001b[0m\u001b[0;34m)\u001b[0m\u001b[0;34m)\u001b[0m\u001b[0;34m)\u001b[0m\u001b[0;34m)\u001b[0m\u001b[0;34m\u001b[0m\u001b[0;34m\u001b[0m\u001b[0m\n\u001b[0m\u001b[1;32m      2\u001b[0m \u001b[0;34m\u001b[0m\u001b[0m\n\u001b[1;32m      3\u001b[0m \u001b[0;32mif\u001b[0m \u001b[0mint\u001b[0m\u001b[0;34m(\u001b[0m\u001b[0mDseq\u001b[0m\u001b[0;34m[\u001b[0m\u001b[0;34m'effseqs'\u001b[0m\u001b[0;34m]\u001b[0m\u001b[0;34m)\u001b[0m \u001b[0;34m>=\u001b[0m \u001b[0;36m100\u001b[0m\u001b[0;34m:\u001b[0m\u001b[0;34m\u001b[0m\u001b[0;34m\u001b[0m\u001b[0m\n\u001b[1;32m      4\u001b[0m     \u001b[0mprint\u001b[0m \u001b[0;34m(\u001b[0m\u001b[0;34m'This alignment has a sufficient number of effective sequences for analysis with SCA.'\u001b[0m\u001b[0;34m)\u001b[0m\u001b[0;34m\u001b[0m\u001b[0;34m\u001b[0m\u001b[0m\n\u001b[1;32m      5\u001b[0m \u001b[0;32melse\u001b[0m\u001b[0;34m:\u001b[0m\u001b[0;34m\u001b[0m\u001b[0;34m\u001b[0m\u001b[0m\n",
      "\u001b[0;31mTypeError\u001b[0m: list indices must be integers or slices, not str"
     ]
    }
   ],
   "source": [
    "print( 'The number of effective sequences in this MSA is: '+str(int(round(Dseq['effseqs']))))\n",
    "\n",
    "if int(Dseq['effseqs']) >= 100:\n",
    "    print ('This alignment has a sufficient number of effective sequences for analysis with SCA.')\n",
    "else:\n",
    "    print('This alignment does not have enough effective sequences to confidently analyze with SCA.')\n",
    "    \n",
    "print ('Npos (L) = '+ str(Dseq['Npos'])) "
   ]
  },
  {
   "cell_type": "code",
   "execution_count": 32,
   "id": "8ff42374",
   "metadata": {},
   "outputs": [
    {
     "ename": "IndexError",
     "evalue": "list index out of range",
     "output_type": "error",
     "traceback": [
      "\u001b[0;31m---------------------------------------------------------------------------\u001b[0m",
      "\u001b[0;31mIndexError\u001b[0m                                Traceback (most recent call last)",
      "\u001b[0;32m/tmp/ipykernel_880/773945539.py\u001b[0m in \u001b[0;36m<module>\u001b[0;34m\u001b[0m\n\u001b[1;32m      3\u001b[0m \u001b[0;32mfor\u001b[0m \u001b[0mk\u001b[0m \u001b[0;32min\u001b[0m \u001b[0mrange\u001b[0m\u001b[0;34m(\u001b[0m\u001b[0mN_alg\u001b[0m\u001b[0;34m)\u001b[0m\u001b[0;34m:\u001b[0m\u001b[0;34m\u001b[0m\u001b[0;34m\u001b[0m\u001b[0m\n\u001b[1;32m      4\u001b[0m     \u001b[0;31m# List all elements above the diagonal (i<j):\u001b[0m\u001b[0;34m\u001b[0m\u001b[0;34m\u001b[0m\u001b[0m\n\u001b[0;32m----> 5\u001b[0;31m     listS = [Dsca[k]['simMat'][i,j] for i in range(Dsca[k]['simMat'].shape[0]) \\\n\u001b[0m\u001b[1;32m      6\u001b[0m              for j in range(i+1, Dsca[k]['simMat'].shape[1])]\n\u001b[1;32m      7\u001b[0m \u001b[0;34m\u001b[0m\u001b[0m\n",
      "\u001b[0;31mIndexError\u001b[0m: list index out of range"
     ]
    },
    {
     "data": {
      "image/png": "[encoded data removed]",
      "text/plain": [
       "<Figure size 1008x288 with 3 Axes>"
      ]
     },
     "metadata": {
      "needs_background": "light"
     },
     "output_type": "display_data"
    }
   ],
   "source": [
    "ix = 1\n",
    "plt.rcParams['figure.figsize'] = 9, 15\n",
    "for k in range(N_alg):\n",
    "    # List all elements above the diagonal (i<j):\n",
    "    listS = [Dsca[k]['simMat'][i,j] for i in range(Dsca[k]['simMat'].shape[0]) \\\n",
    "             for j in range(i+1, Dsca[k]['simMat'].shape[1])]\n",
    "    \n",
    "    #Cluster the sequence similarity matrix\n",
    "    Z = sch.linkage(Dsca[k]['simMat'],method = 'complete', metric = 'cityblock')\n",
    "    R = sch.dendrogram(Z,no_plot = True)\n",
    "    ind = R['leaves']\n",
    "    \n",
    "    #Plotting\n",
    "    plt.rcParams['figure.figsize'] = 14, 4 \n",
    "    plt.subplot(2,2,ix)\n",
    "    ix += 1\n",
    "    plt.hist(listS, int(round(Dseq[k]['Npos']/2)))\n",
    "    plt.xlabel('Pairwise sequence identities', fontsize=14)\n",
    "    plt.ylabel('Number', fontsize=14)\n",
    "    plt.subplot(2,2,ix)\n",
    "    ix += 1\n",
    "    plt.imshow(Dsca[k]['simMat'][np.ix_(ind,ind)], vmin=0, vmax=1); plt.colorbar();   \n",
    "    plt.tight_layout()"
   ]
  },
  {
   "cell_type": "code",
   "execution_count": null,
   "id": "b0e44ba0",
   "metadata": {},
   "outputs": [],
   "source": []
  }
 ],
 "metadata": {
  "kernelspec": {
   "display_name": "Python 3 (ipykernel)",
   "language": "python",
   "name": "python3"
  },
  "language_info": {
   "codemirror_mode": {
    "name": "ipython",
    "version": 3
   },
   "file_extension": ".py",
   "mimetype": "text/x-python",
   "name": "python",
   "nbconvert_exporter": "python",
   "pygments_lexer": "ipython3",
   "version": "3.9.7"
  }
 },
 "nbformat": 4,
 "nbformat_minor": 5
}
