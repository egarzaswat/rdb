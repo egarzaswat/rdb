{
 "cells": [
  {
   "cell_type": "markdown",
   "id": "3e1a005e",
   "metadata": {},
   "source": [
    "### pySCA on DHFR (NCBI alignment)\n",
    "\n",
    "First we need to run the four executable scripts to pre-processs the list of orthologous sequences we downloaded using pBLAST. Must be in bin directory "
   ]
  },
  {
   "cell_type": "code",
   "execution_count": 4,
   "id": "d3d3c71c",
   "metadata": {},
   "outputs": [
    {
     "ename": "SyntaxError",
     "evalue": "invalid syntax (<ipython-input-4-042b01de3582>, line 1)",
     "output_type": "error",
     "traceback": [
      "\u001b[0;36m  File \u001b[0;32m\"<ipython-input-4-042b01de3582>\"\u001b[0;36m, line \u001b[0;32m1\u001b[0m\n\u001b[0;31m    >> annotateMSA -i ../data/DHFR_PEPM3.fasta -o ../output DHFR_PEPM3.an -a 'ncbi' -g ../data/DHFR_PEPM3.gis\u001b[0m\n\u001b[0m    ^\u001b[0m\n\u001b[0;31mSyntaxError\u001b[0m\u001b[0;31m:\u001b[0m invalid syntax\n"
     ]
    }
   ],
   "source": [
    "    >> annotateMSA -i ../data/DHFR_PEPM3.fasta -o ../output DHFR_PEPM3.an -a 'ncbi' -g ../data/DHFR_PEPM3.gis\n"
   ]
  },
  {
   "cell_type": "markdown",
   "id": "5b2e4b72",
   "metadata": {},
   "source": [
    "Runnning pySCA on NCBI DHFR alignment"
   ]
  },
  {
   "cell_type": "code",
   "execution_count": 5,
   "id": "cc5b65ca",
   "metadata": {},
   "outputs": [
    {
     "name": "stdout",
     "output_type": "stream",
     "text": [
      "python annotateMSA -i /home/bjohnson/pySCA-master/data/DHFR_PEPM3.fasta -o /home/bjohnson/pySCA-master/output/ -a ncbi -l /home/bjohnson/pySCA-master/data/DHFR_PEPM3.gis\n"
     ]
    }
   ],
   "source": [
    "path2aln='/home/bjohnson/pySCA-master/data/DHFR_PEPM3.fasta'\n",
    "path2aln_processed='/home/bjohnson/pySCA-master/output/DHFR_PEPM3.an'\n",
    "aln_type='ncbi'\n",
    "gilist='/home/bjohnson/pySCA-master/data/DHFR_PEPM3.gis'\n",
    "\n",
    "print('python annotateMSA -i %s -o %s -a %s -l %s' % (path2aln,path2out,aln_type,gilist))\n",
    "\n"
   ]
  },
  {
   "cell_type": "markdown",
   "id": "d59b6bbd",
   "metadata": {},
   "source": [
    "Running SCA processing MSA"
   ]
  },
  {
   "cell_type": "code",
   "execution_count": 6,
   "id": "d8b199ca",
   "metadata": {},
   "outputs": [
    {
     "name": "stdout",
     "output_type": "stream",
     "text": [
      "python scaProcessMSA -a /home/bjohnson/pySCA-master/output/DHFR_PEPM3.an -d /home/bjohnson/pySCA-master/output/ -s 1RX2\n"
     ]
    }
   ],
   "source": [
    "pdb_id='/home/bjohnson/pySCA-master/data/1RX2'\n",
    "path2out = '/home/bjohnson/pySCA-master/output/'\n",
    "print('python scaProcessMSA -a %s -d %s -s %s' %(path2aln_processed,path2out,'1RX2'))\n",
    "\n",
    "# -a takes output of annotateMSA, path2aln_processed\n",
    "# -d is where you want the result of scaProcessMSA to put a processed alignment\n",
    "# -s is the 4 character PDB ID\n"
   ]
  },
  {
   "cell_type": "markdown",
   "id": "32f1b7ad",
   "metadata": {},
   "source": [
    "Running scaCore"
   ]
  },
  {
   "cell_type": "code",
   "execution_count": 8,
   "id": "9e843fec",
   "metadata": {},
   "outputs": [
    {
     "name": "stdout",
     "output_type": "stream",
     "text": [
      "python scaCore -i /home/bjohnson/pySCA-master/output/DHFR_PEPM3.db\n"
     ]
    }
   ],
   "source": [
    "path2db='/home/bjohnson/pySCA-master/output/DHFR_PEPM3.db'\n",
    "print('python scaCore -i %s' %(path2db))\n"
   ]
  },
  {
   "cell_type": "markdown",
   "id": "96416156",
   "metadata": {},
   "source": [
    "Running scaSectorID"
   ]
  },
  {
   "cell_type": "code",
   "execution_count": 9,
   "id": "5510dbe8",
   "metadata": {},
   "outputs": [
    {
     "name": "stdout",
     "output_type": "stream",
     "text": [
      "python scaSectorID -i /home/bjohnson/pySCA-master/output/DHFR_PEPM3.db\n"
     ]
    }
   ],
   "source": [
    "print('python scaSectorID -i %s' %(path2db))\n"
   ]
  },
  {
   "cell_type": "code",
   "execution_count": 10,
   "id": "30d50237",
   "metadata": {},
   "outputs": [],
   "source": [
    "import pickle as pickle\n",
    "import numpy as np\n",
    "import matplotlib.pyplot as plt"
   ]
  },
  {
   "cell_type": "code",
   "execution_count": 15,
   "id": "bf1e7260",
   "metadata": {},
   "outputs": [],
   "source": [
    "# opening the output of sca python scripts, DHFR_PEPM3.db\n",
    "\n",
    "db = pickle.load(open(path2db, 'rb'))"
   ]
  },
  {
   "cell_type": "code",
   "execution_count": 17,
   "id": "c119bec5",
   "metadata": {},
   "outputs": [
    {
     "data": {
      "text/plain": [
       "dict_keys(['sequence', 'sca', 'sector'])"
      ]
     },
     "execution_count": 17,
     "metadata": {},
     "output_type": "execute_result"
    }
   ],
   "source": [
    "db.keys()"
   ]
  },
  {
   "cell_type": "code",
   "execution_count": 19,
   "id": "84e93514",
   "metadata": {},
   "outputs": [
    {
     "data": {
      "text/plain": [
       "dict_keys(['alg', 'hd', 'msa_num', 'seqw', 'Nseq', 'Npos', 'ats', 'effseqs', 'limitseqs', 'NseqPrelimit', 'effseqsPrelimit', 'pdbid', 'pdb_chainID', 'distmat', 'i_ref', 'trim_parameters', 'truncate_flag'])"
      ]
     },
     "execution_count": 19,
     "metadata": {},
     "output_type": "execute_result"
    }
   ],
   "source": [
    "db['sequence'].keys()"
   ]
  },
  {
   "cell_type": "code",
   "execution_count": 21,
   "id": "0301b732",
   "metadata": {},
   "outputs": [
    {
     "data": {
      "text/plain": [
       "dict_keys(['Useq', 'Uica', 'simMat', 'lbda', 'Dia', 'Di', 'Csca', 'tX', 'Proj', 'Ntrials', 'Vrand', 'Lrand', 'Crand'])"
      ]
     },
     "execution_count": 21,
     "metadata": {},
     "output_type": "execute_result"
    }
   ],
   "source": [
    "db['sca'].keys()"
   ]
  },
  {
   "cell_type": "code",
   "execution_count": 22,
   "id": "ea7a78fe",
   "metadata": {},
   "outputs": [
    {
     "data": {
      "text/plain": [
       "dict_keys(['Vsca', 'Lsca', 'kpos', 'Vpica', 'Wpica', 'Usca', 'Upica', 'Usica', 'Wsica', 'ics', 'icsize', 'sortedpos', 'cutoff', 'scaled_pd', 'pd'])"
      ]
     },
     "execution_count": 22,
     "metadata": {},
     "output_type": "execute_result"
    }
   ],
   "source": [
    "db['sector'].keys()"
   ]
  }
 ],
 "metadata": {
  "kernelspec": {
   "display_name": "Python 3 (ipykernel)",
   "language": "python",
   "name": "python3"
  },
  "language_info": {
   "codemirror_mode": {
    "name": "ipython",
    "version": 3
   },
   "file_extension": ".py",
   "mimetype": "text/x-python",
   "name": "python",
   "nbconvert_exporter": "python",
   "pygments_lexer": "ipython3",
   "version": "3.9.7"
  }
 },
 "nbformat": 4,
 "nbformat_minor": 5
}
