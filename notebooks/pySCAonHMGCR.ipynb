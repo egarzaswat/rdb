{
 "cells": [
  {
   "cell_type": "code",
   "execution_count": 1,
   "id": "ddb38a93",
   "metadata": {},
   "outputs": [],
   "source": [
    "#this defaults plots to matplotlib 1.0 formatting\n",
    "import matplotlib.style\n",
    "import matplotlib as mpl\n",
    "#mpl.style.use('classic')\n",
    "%matplotlib inline\n",
    "mpl.rcParams['figure.dpi']= 150\n",
    "\n",
    "# importing packages needed to run this script \n",
    "from subprocess import call\n",
    "import pickle as pickle\n",
    "%matplotlib inline\n",
    "import matplotlib.pyplot as plt\n",
    "import numpy as np\n",
    "import scipy.cluster.hierarchy as sch\n",
    "\n",
    "import os\n",
    "import time\n",
    "import matplotlib.pyplot as plt\n",
    "import numpy as np\n",
    "import copy\n",
    "import colorsys\n",
    "import matplotlib.image as mpimg\n",
    "from IPython.display import display\n",
    "from IPython.display import Image\n",
    "import scipy.cluster.hierarchy as sch\n",
    "from scipy.stats import scoreatpercentile \n",
    "from pysca import scaTools as sca\n",
    "# import mpld3\n",
    "import pickle as pickle\n",
    "from optparse import OptionParser\n",
    "\n",
    "%matplotlib inline\n",
    "\n",
    "if not os.path.exists('../output/'):\n",
    "    os.makedirs('../output/')  "
   ]
  },
  {
   "cell_type": "code",
   "execution_count": 7,
   "id": "adb7ba5d",
   "metadata": {},
   "outputs": [
    {
     "ename": "SyntaxError",
     "evalue": "invalid syntax (2124163188.py, line 2)",
     "output_type": "error",
     "traceback": [
      "\u001b[0;36m  File \u001b[0;32m\"/tmp/ipykernel_27204/2124163188.py\"\u001b[0;36m, line \u001b[0;32m2\u001b[0m\n\u001b[0;31m    python annotateMSA -i /home/bjohnson/pySCA-master/data/ubia1_bj_211212.txt -l /home/bjohnson/pySCA-master/data/id.txt -o /home/bjohnson/pySCA-master/output/ubia1_bj_211212.an -a 'ncbi' -e brittany.johnson@utsouthwestern.edu\u001b[0m\n\u001b[0m           ^\u001b[0m\n\u001b[0;31mSyntaxError\u001b[0m\u001b[0;31m:\u001b[0m invalid syntax\n"
     ]
    }
   ],
   "source": [
    "#Run utilities/file_parser.py on the blast file to generate the sequence of ids\n",
    "# python annotateMSA -i /home/bjohnson/pySCA-master/data/ubia1_bj_211212.txt -l /home/bjohnson/pySCA-master/data/id.txt -o \n",
    "# /home/bjohnson/pySCA-master/output/ubia1_bj_211212.an -a 'ncbi' -e brittany.johnson@utsouthwestern.edu"
   ]
  },
  {
   "cell_type": "code",
   "execution_count": 14,
   "id": "10814c03",
   "metadata": {},
   "outputs": [
    {
     "name": "stdout",
     "output_type": "stream",
     "text": [
      "annotateMSA -i /home/bjohnson/rdb/data/HMGCRalign.aln -l /home/bjohnson/rdb/data/HMGCalign_ids.txt -a ncbi -e brittany.johnson@utsouthwestern.edu -o /home/bjohnson/rdb/output/HMGCRalign.an\n",
      "Beginning annotation\n",
      "Look up for Tax IDs complete. Time: 9.206007\n",
      "Collecting taxonomy information...\n",
      "Look up for taxonomy information complete. Time: 2.895911\n"
     ]
    },
    {
     "data": {
      "text/plain": [
       "0"
      ]
     },
     "execution_count": 14,
     "metadata": {},
     "output_type": "execute_result"
    }
   ],
   "source": [
    "MSAinput = '/home/bjohnson/rdb/data/HMGCRalign.aln'\n",
    "annotateOutput = '/home/bjohnson/rdb/output/HMGCRalign.an'\n",
    "id_list = '/home/bjohnson/rdb/data/HMGCalign_ids.txt'\n",
    "entrezemail= 'brittany.johnson@utsouthwestern.edu'\n",
    "##########################################################################################################################################\n",
    "\n",
    "#Run annotateMSA on your protein of interest\n",
    "command = str('annotateMSA -i %s -l %s -a %s -e %s -o %s' % (MSAinput, id_list,'ncbi',entrezemail,annotateOutput))\n",
    "print(command)\n",
    "call(command,shell = 'True')"
   ]
  },
  {
   "cell_type": "code",
   "execution_count": 33,
   "id": "8354fe6c",
   "metadata": {
    "scrolled": true
   },
   "outputs": [
    {
     "name": "stdout",
     "output_type": "stream",
     "text": [
      "scaProcessMSA -a /home/bjohnson/rdb/output/HMGCRalign.an -d home/bjohnson/output/ -i 0\n",
      "Loaded alignment of 100 sequences, 888 positions.\n",
      "Checking alignment for non-standard amino acids\n",
      "Aligment size after removing sequences with non-standard amino acids: 98\n",
      "Trimming alignment for highly gapped positions (80% or more).\n",
      "98\n"
     ]
    },
    {
     "name": "stderr",
     "output_type": "stream",
     "text": [
      "Traceback (most recent call last):\n",
      "  File \"/home/bjohnson/pySCA-master/bin/scaProcessMSA\", line 280, in <module>\n",
      "    alg_out, poskeep = sca.filterPos(sequences_full, [1], 0.8)\n",
      "  File \"/home/bjohnson/pySCA-master/bin/pysca/scaTools.py\", line 881, in filterPos\n",
      "    [[int(alg[s][i] == \"-\") for i in range(Npos)] for s in range(Nseq)]\n",
      "  File \"/home/bjohnson/pySCA-master/bin/pysca/scaTools.py\", line 881, in <listcomp>\n",
      "    [[int(alg[s][i] == \"-\") for i in range(Npos)] for s in range(Nseq)]\n",
      "  File \"/home/bjohnson/pySCA-master/bin/pysca/scaTools.py\", line 881, in <listcomp>\n",
      "    [[int(alg[s][i] == \"-\") for i in range(Npos)] for s in range(Nseq)]\n",
      "IndexError: string index out of range\n"
     ]
    },
    {
     "data": {
      "text/plain": [
       "1"
      ]
     },
     "execution_count": 33,
     "metadata": {},
     "output_type": "execute_result"
    }
   ],
   "source": [
    "path2aln_processed = '/home/bjohnson/rdb/output/HMGCRalign.an'\n",
    "path2out = 'home/bjohnson/output/'\n",
    "command =  str('scaProcessMSA -a %s -d %s -i 0' % (path2aln_processed, path2out))\n",
    "print(command)\n",
    "call(command,shell = 'True')"
   ]
  },
  {
   "cell_type": "code",
   "execution_count": null,
   "id": "5594953a",
   "metadata": {},
   "outputs": [],
   "source": []
  }
 ],
 "metadata": {
  "kernelspec": {
   "display_name": "Python 3 (ipykernel)",
   "language": "python",
   "name": "python3"
  },
  "language_info": {
   "codemirror_mode": {
    "name": "ipython",
    "version": 3
   },
   "file_extension": ".py",
   "mimetype": "text/x-python",
   "name": "python",
   "nbconvert_exporter": "python",
   "pygments_lexer": "ipython3",
   "version": "3.9.7"
  }
 },
 "nbformat": 4,
 "nbformat_minor": 5
}
