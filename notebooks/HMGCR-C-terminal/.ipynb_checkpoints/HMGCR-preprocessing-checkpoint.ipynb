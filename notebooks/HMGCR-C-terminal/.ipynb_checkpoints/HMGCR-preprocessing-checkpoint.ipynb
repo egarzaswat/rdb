{
 "cells": [
  {
   "cell_type": "code",
   "execution_count": 21,
   "id": "9db004aa",
   "metadata": {},
   "outputs": [],
   "source": [
    "#this defaults plots to matplotlib 1.0 formatting\n",
    "import matplotlib.style\n",
    "import matplotlib as mpl\n",
    "#mpl.style.use('classic')\n",
    "%matplotlib inline\n",
    "mpl.rcParams['figure.dpi']= 150\n",
    "\n",
    "# importing packages needed to run this script \n",
    "from subprocess import call\n",
    "import pickle as pickle\n",
    "%matplotlib inline\n",
    "import matplotlib.pyplot as plt\n",
    "import numpy as np\n",
    "import scipy.cluster.hierarchy as sch\n",
    "\n",
    "import os\n",
    "import time\n",
    "import matplotlib.pyplot as plt\n",
    "import numpy as np\n",
    "import copy\n",
    "import colorsys\n",
    "import requests\n",
    "import matplotlib.image as mpimg\n",
    "from IPython.display import display\n",
    "from IPython.display import Image\n",
    "import scipy.cluster.hierarchy as sch\n",
    "from scipy.stats import scoreatpercentile \n",
    "# import mpld3\n",
    "import pickle as pickle\n",
    "from optparse import OptionParser\n",
    "import sys\n",
    "sys.path.append('../../utilities')\n",
    "sys.path.append('..')\n",
    "from pysca import scaTools as sca\n",
    "from graph_helpers import (\n",
    "   gen_amino_acid_position_in_ref_sequence_graph,\n",
    "   gen_clustered_similarity_matrix, \n",
    "   gen_unclustered_similarity_matrix,\n",
    "   gen_pairwise_sequence_identities\n",
    ")\n",
    "from helpers import (\n",
    "    show_processmsa_results,\n",
    "    seq_count_check\n",
    ")\n",
    "\n",
    "%matplotlib inline\n",
    "\n",
    "if not os.path.exists('../output/'):\n",
    "    os.makedirs('../output/')  "
   ]
  },
  {
   "cell_type": "code",
   "execution_count": 27,
   "id": "846be47b",
   "metadata": {},
   "outputs": [
    {
     "name": "stdout",
     "output_type": "stream",
     "text": [
      "Writing file\n",
      "File successfully generated See above prints for errors\n"
     ]
    }
   ],
   "source": [
    "#see docs for api at https://www.ebi.ac.uk/ena/taxonomy/rest/\n",
    "with open('./HMGCR_MSA.txt') as source:\n",
    "    with open('./HMGCRCTERM-aligned.txt', 'w') as dest:\n",
    "        print(\"Writing file\")\n",
    "        lines = source.readlines()\n",
    "        line_num = 0;\n",
    "        for line in lines:\n",
    "            if line[0] == '>': #instruction lines start with a right chevron\n",
    "                entries = line.split('|')\n",
    "                id = entries[0]\n",
    "                protein_name = entries[2]\n",
    "                tax_id = int(entries[-1].split(':')[-1])\n",
    "                if not tax_id:\n",
    "                    print(f\"line {line_num} missing tax_id\")\n",
    "                res = requests.get(f\"https://www.ebi.ac.uk/ena/taxonomy/rest/tax-id/{tax_id}\")\n",
    "                response = res.json()\n",
    "                lineage = response.get(\"lineage\", \"Unknown lineage\").replace(\";\",\",\")[:-2] + '.'\n",
    "                sci_name = response.get(\"scientificName\", \"Unknown scientific name\") \n",
    "                common_name = response.get(\"commonName\", None)\n",
    "                if common_name:\n",
    "                    dest.write(f\"{id}|{protein_name}|{sci_name} ({common_name})|{lineage}\\n\")\n",
    "                else:\n",
    "                    dest.write(f\"{id}|{protein_name}|{sci_name}|{lineage}\\n\")\n",
    "            else:\n",
    "                dest.write(line)\n",
    "print(\"File successfully generated See above prints for errors\")"
   ]
  },
  {
   "cell_type": "code",
   "execution_count": null,
   "id": "3e8eef3f",
   "metadata": {},
   "outputs": [],
   "source": []
  }
 ],
 "metadata": {
  "kernelspec": {
   "display_name": "Python 3 (ipykernel)",
   "language": "python",
   "name": "python3"
  },
  "language_info": {
   "codemirror_mode": {
    "name": "ipython",
    "version": 3
   },
   "file_extension": ".py",
   "mimetype": "text/x-python",
   "name": "python",
   "nbconvert_exporter": "python",
   "pygments_lexer": "ipython3",
   "version": "3.9.13"
  }
 },
 "nbformat": 4,
 "nbformat_minor": 5
}
