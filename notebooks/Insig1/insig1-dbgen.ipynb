{
 "cells": [
  {
   "cell_type": "code",
   "execution_count": 3,
   "id": "8891c027",
   "metadata": {},
   "outputs": [],
   "source": [
    "#this defaults plots to matplotlib 1.0 formatting\n",
    "import matplotlib.style\n",
    "import matplotlib as mpl\n",
    "#mpl.style.use('classic')\n",
    "%matplotlib inline\n",
    "mpl.rcParams['figure.dpi']= 150\n",
    "\n",
    "# importing packages needed to run this script \n",
    "from subprocess import call\n",
    "import pickle as pickle\n",
    "%matplotlib inline\n",
    "import matplotlib.pyplot as plt\n",
    "import numpy as np\n",
    "import scipy.cluster.hierarchy as sch\n",
    "\n",
    "import os\n",
    "import time\n",
    "import matplotlib.pyplot as plt\n",
    "import numpy as np\n",
    "import copy\n",
    "import colorsys\n",
    "import matplotlib.image as mpimg\n",
    "from IPython.display import display\n",
    "from IPython.display import Image\n",
    "import scipy.cluster.hierarchy as sch\n",
    "from scipy.stats import scoreatpercentile \n",
    "# import mpld3\n",
    "import pickle as pickle\n",
    "from optparse import OptionParser\n",
    "import sys\n",
    "sys.path.append('../../utilities')\n",
    "sys.path.append('..')\n",
    "from pysca import scaTools as sca\n",
    "from graph_helpers import (\n",
    "   gen_amino_acid_position_in_ref_sequence_graph,\n",
    "   gen_clustered_similarity_matrix, \n",
    "   gen_unclustered_similarity_matrix,\n",
    "   gen_pairwise_sequence_identities\n",
    ")\n",
    "from helpers import (\n",
    "    show_processmsa_results,\n",
    "    seq_count_check\n",
    ")\n",
    "\n",
    "%matplotlib inline\n",
    "\n",
    "if not os.path.exists('../output/'):\n",
    "    os.makedirs('../output/')  "
   ]
  },
  {
   "cell_type": "code",
   "execution_count": 4,
   "id": "4f0a119c",
   "metadata": {},
   "outputs": [
    {
     "name": "stdout",
     "output_type": "stream",
     "text": [
      "scaProcessMSA -a /home/bjohnson/rdb/notebooks/Insig1/Insig1pfamalign-annotated.txt -d ./ -i 0\n",
      "Loaded alignment of 1392 sequences, 849 positions.\n",
      "Checking alignment for non-standard amino acids\n",
      "Aligment size after removing sequences with non-standard amino acids: 1387\n",
      "Trimming alignment for highly gapped positions (80% or more).\n",
      "1387\n",
      "Alignment size post-trimming: 226 positions\n",
      "Looking for PDBs in home/bjohnson/pySCA-master/data/\n",
      "using provided reference index 0\n",
      "A0A672RDX5_SINGR|Insulin-induced gene protein |Sinocyclocheilus grahami (Dianchi golden-line fish) (Barbus grahami)|Eukaryota,Metazoa,Chordata,Craniata,Vertebrata,Euteleostomi,Actinopterygii,Neopterygii,Teleostei,Ostariophysi,Cypriniformes,Cyprinidae,Cyprininae,Sinocyclocheilus.\n",
      "here!\n",
      "len refseq 182, len refpos 226, len algseq 226, len pairalg 226, len gloalg 226\n",
      "Conducting sequence and position filtering: alignment size is 1387 seqs, 226 pos\n",
      "ATS should also have 226 positions - ATS: 226\n",
      "Keeping 975 sequences of 1387 sequences (after filtering for gaps)\n",
      "Keeping 956 sequences of 975 sequences (after filtering for seq similarity)\n",
      "After filtering: alignment size is 956 seqs, 199 effective seqs, 177 pos\n",
      "Final alignment parameters:\n",
      "Number of sequences: M = 956\n",
      "Number of effective sequences: M' = 154\n",
      "Number of alignment positions: L = 177\n",
      "Opening database file /home/bjohnson/rdb/notebooks/Insig1/Insig1pfamalign-annotated\n",
      "Executed\n"
     ]
    }
   ],
   "source": [
    "path2aln_processed = '/home/bjohnson/rdb/notebooks/Insig1/Insig1pfamalign-annotated.txt'\n",
    "path2out = './'\n",
    "command =  str('scaProcessMSA -a %s -d %s -i 0' % (path2aln_processed, path2out))\n",
    "print(command)\n",
    "call(command,shell = 'True')\n",
    "print(\"Executed\")"
   ]
  },
  {
   "cell_type": "code",
   "execution_count": 5,
   "id": "96babbef",
   "metadata": {},
   "outputs": [],
   "source": [
    "pickle_path = '/home/bjohnson/rdb/notebooks/Insig1/Insig1pfamalign-annotated.db'\n",
    "db = pickle.load(open(pickle_path,'rb'))\n",
    "Dseq = db['sequence']"
   ]
  },
  {
   "cell_type": "code",
   "execution_count": 6,
   "id": "a0ba4bb8",
   "metadata": {},
   "outputs": [
    {
     "name": "stdout",
     "output_type": "stream",
     "text": [
      "*****Final processed alignment parameters****\n",
      "Number of sequences: M = 956\n",
      "Number of effective sequences: M' = 154\n",
      "Number of alignment positions: L = 177\n",
      "Number of positions in the ats: 177\n",
      "Number of structure positions mapped: 177\n",
      "Missing key distmat\n",
      "****************************************\n"
     ]
    }
   ],
   "source": [
    "show_processmsa_results(Dseq)"
   ]
  },
  {
   "cell_type": "code",
   "execution_count": 7,
   "id": "364739f0",
   "metadata": {},
   "outputs": [
    {
     "name": "stdout",
     "output_type": "stream",
     "text": [
      "The number of effective sequences in this MSA is: 154\n",
      "This alignment has a sufficient number of effective sequences for analysis with SCA.\n",
      "Npos (L) = 177\n"
     ]
    }
   ],
   "source": [
    "seq_count_check(Dseq)"
   ]
  },
  {
   "cell_type": "code",
   "execution_count": 8,
   "id": "f3c3ed6a",
   "metadata": {},
   "outputs": [
    {
     "name": "stdout",
     "output_type": "stream",
     "text": [
      "scaCore -i /home/bjohnson/rdb/notebooks/Insig1/Insig1pfamalign-annotated.db\n",
      "Computing the sequence projections.\n",
      "Computing sequence similarity matrix.\n",
      "Computing the SCA conservation and correlation values.\n",
      "Computing matrix randomizations...\n",
      "Randomizations complete, 10 trials, time: 0.4 minutes\n",
      "Calculations complete, writing to database file /home/bjohnson/rdb/notebooks/Insig1/Insig1pfamalign-annotated\n",
      "Executed\n"
     ]
    }
   ],
   "source": [
    "command = 'scaCore -i %s' % (pickle_path)\n",
    "print (command)\n",
    "call(command, shell = 'True')\n",
    "db = pickle.load(open(pickle_path,'rb'))\n",
    "Dsca = db['sca']\n",
    "print(\"Executed\")"
   ]
  },
  {
   "cell_type": "code",
   "execution_count": 9,
   "id": "ea189e55",
   "metadata": {},
   "outputs": [
    {
     "name": "stdout",
     "output_type": "stream",
     "text": [
      "scaSectorID -i /home/bjohnson/rdb/notebooks/Insig1/Insig1pfamalign-annotated.db\n",
      "Selected kpos=6 significant eigenmodes.\n",
      "Calculations complete, writing to database file /home/bjohnson/rdb/notebooks/Insig1/Insig1pfamalign-annotated\n",
      "Executed\n"
     ]
    }
   ],
   "source": [
    "command = 'scaSectorID -i %s' % (pickle_path)\n",
    "print (command)\n",
    "call(command, shell = 'True')\n",
    "\n",
    "# Load and store results of scaSectorID\n",
    "db = pickle.load(open(pickle_path,'rb'))\n",
    "Dsect = db['sector'] \n",
    "print(\"Executed\")"
   ]
  },
  {
   "cell_type": "code",
   "execution_count": null,
   "id": "017f7c71",
   "metadata": {},
   "outputs": [],
   "source": []
  }
 ],
 "metadata": {
  "kernelspec": {
   "display_name": "Python 3 (ipykernel)",
   "language": "python",
   "name": "python3"
  },
  "language_info": {
   "codemirror_mode": {
    "name": "ipython",
    "version": 3
   },
   "file_extension": ".py",
   "mimetype": "text/x-python",
   "name": "python",
   "nbconvert_exporter": "python",
   "pygments_lexer": "ipython3",
   "version": "3.9.7"
  }
 },
 "nbformat": 4,
 "nbformat_minor": 5
}
