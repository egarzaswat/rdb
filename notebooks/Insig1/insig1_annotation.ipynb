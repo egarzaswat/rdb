{
 "cells": [
  {
   "cell_type": "code",
   "execution_count": null,
   "id": "ad452477",
   "metadata": {},
   "outputs": [],
   "source": [
    "#this defaults plots to matplotlib 1.0 formatting\n",
    "import matplotlib.style\n",
    "import matplotlib as mpl\n",
    "#mpl.style.use('classic')\n",
    "%matplotlib inline\n",
    "mpl.rcParams['figure.dpi']= 150\n",
    "\n",
    "# importing packages needed to run this script \n",
    "from subprocess import call\n",
    "import pickle as pickle\n",
    "%matplotlib inline\n",
    "import matplotlib.pyplot as plt\n",
    "import numpy as np\n",
    "import scipy.cluster.hierarchy as sch\n",
    "\n",
    "import os\n",
    "import time\n",
    "import matplotlib.pyplot as plt\n",
    "import numpy as np\n",
    "import copy\n",
    "import colorsys\n",
    "import matplotlib.image as mpimg\n",
    "from IPython.display import display\n",
    "from IPython.display import Image\n",
    "import scipy.cluster.hierarchy as sch\n",
    "from scipy.stats import scoreatpercentile \n",
    "# import mpld3\n",
    "import pickle as pickle\n",
    "from optparse import OptionParser\n",
    "import sys\n",
    "sys.path.append('../../utilities')\n",
    "sys.path.append('..')\n",
    "from pysca import scaTools as sca\n",
    "from graph_helpers import (\n",
    "   gen_amino_acid_position_in_ref_sequence_graph,\n",
    "   gen_clustered_similarity_matrix, \n",
    "   gen_unclustered_similarity_matrix,\n",
    "   gen_pairwise_sequence_identities\n",
    ")\n",
    "from helpers import (\n",
    "    show_processmsa_results,\n",
    "    seq_count_check\n",
    ")\n",
    "\n",
    "%matplotlib inline\n",
    "\n",
    "if not os.path.exists('../output/'):\n",
    "    os.makedirs('../output/')  "
   ]
  },
  {
   "cell_type": "code",
   "execution_count": null,
   "id": "32e758ac",
   "metadata": {},
   "outputs": [],
   "source": [
    "input_pfam = '/home/bjohnson/rdb/notebooks/Insig1/Insig1pfamalign.txt'\n",
    "output_pfam = '/home/bjohnson/rdb/notebooks/Insig1/Insig1pfamalign-annotated.txt'\n",
    "pfam_seq = '/home/bjohnson/rdb/common/pfamseq.txt'\n",
    "#construct a dictionary of phylogenetic groups\n",
    "sca.AnnotPfam(input_pfam, output_pfam, pfam_seq=pfam_seq)\n",
    "print('Executed')"
   ]
  }
 ],
 "metadata": {
  "kernelspec": {
   "display_name": "Python 3 (ipykernel)",
   "language": "python",
   "name": "python3"
  },
  "language_info": {
   "codemirror_mode": {
    "name": "ipython",
    "version": 3
   },
   "file_extension": ".py",
   "mimetype": "text/x-python",
   "name": "python",
   "nbconvert_exporter": "python",
   "pygments_lexer": "ipython3",
   "version": "3.9.7"
  }
 },
 "nbformat": 4,
 "nbformat_minor": 5
}
