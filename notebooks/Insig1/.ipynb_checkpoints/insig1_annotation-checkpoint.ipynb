{
 "cells": [
  {
   "cell_type": "code",
   "execution_count": 3,
   "id": "4c14c414",
   "metadata": {},
   "outputs": [
    {
     "ename": "ModuleNotFoundError",
     "evalue": "No module named 'pysca'",
     "output_type": "error",
     "traceback": [
      "\u001b[0;31m---------------------------------------------------------------------------\u001b[0m",
      "\u001b[0;31mModuleNotFoundError\u001b[0m                       Traceback (most recent call last)",
      "\u001b[0;32m/tmp/ipykernel_297/678856729.py\u001b[0m in \u001b[0;36m<module>\u001b[0;34m\u001b[0m\n\u001b[1;32m     33\u001b[0m \u001b[0msys\u001b[0m\u001b[0;34m.\u001b[0m\u001b[0mpath\u001b[0m\u001b[0;34m.\u001b[0m\u001b[0mappend\u001b[0m\u001b[0;34m(\u001b[0m\u001b[0;34m'../pysca/scaTools.py'\u001b[0m\u001b[0;34m)\u001b[0m\u001b[0;34m\u001b[0m\u001b[0;34m\u001b[0m\u001b[0m\n\u001b[1;32m     34\u001b[0m \u001b[0msys\u001b[0m\u001b[0;34m.\u001b[0m\u001b[0mpath\u001b[0m\u001b[0;34m.\u001b[0m\u001b[0mappend\u001b[0m\u001b[0;34m(\u001b[0m\u001b[0;34m'../pysca/settings.py'\u001b[0m\u001b[0;34m)\u001b[0m\u001b[0;34m\u001b[0m\u001b[0;34m\u001b[0m\u001b[0m\n\u001b[0;32m---> 35\u001b[0;31m \u001b[0;32mimport\u001b[0m \u001b[0mscaTools\u001b[0m \u001b[0;32mas\u001b[0m \u001b[0msca\u001b[0m\u001b[0;34m\u001b[0m\u001b[0;34m\u001b[0m\u001b[0m\n\u001b[0m\u001b[1;32m     36\u001b[0m \u001b[0;34m\u001b[0m\u001b[0m\n\u001b[1;32m     37\u001b[0m from graph_helpers import (\n",
      "\u001b[0;32m~/rdb/notebooks/Insig1/../pysca/scaTools.py\u001b[0m in \u001b[0;36m<module>\u001b[0;34m\u001b[0m\n\u001b[1;32m     43\u001b[0m \u001b[0;32mfrom\u001b[0m \u001b[0mBio\u001b[0m \u001b[0;32mimport\u001b[0m \u001b[0mEntrez\u001b[0m\u001b[0;34m\u001b[0m\u001b[0;34m\u001b[0m\u001b[0m\n\u001b[1;32m     44\u001b[0m \u001b[0;34m\u001b[0m\u001b[0m\n\u001b[0;32m---> 45\u001b[0;31m \u001b[0;32mfrom\u001b[0m \u001b[0mpysca\u001b[0m \u001b[0;32mimport\u001b[0m \u001b[0msettings\u001b[0m\u001b[0;34m\u001b[0m\u001b[0;34m\u001b[0m\u001b[0m\n\u001b[0m\u001b[1;32m     46\u001b[0m \u001b[0;34m\u001b[0m\u001b[0m\n\u001b[1;32m     47\u001b[0m \u001b[0;34m\u001b[0m\u001b[0m\n",
      "\u001b[0;31mModuleNotFoundError\u001b[0m: No module named 'pysca'"
     ]
    }
   ],
   "source": [
    "#this defaults plots to matplotlib 1.0 formatting\n",
    "import matplotlib.style\n",
    "import matplotlib as mpl\n",
    "#mpl.style.use('classic')\n",
    "%matplotlib inline\n",
    "mpl.rcParams['figure.dpi']= 150\n",
    "\n",
    "# importing packages needed to run this script \n",
    "from subprocess import call\n",
    "import pickle as pickle\n",
    "%matplotlib inline\n",
    "import matplotlib.pyplot as plt\n",
    "import numpy as np\n",
    "import scipy.cluster.hierarchy as sch\n",
    "\n",
    "import os\n",
    "import time\n",
    "import matplotlib.pyplot as plt\n",
    "import numpy as np\n",
    "import copy\n",
    "import colorsys\n",
    "import matplotlib.image as mpimg\n",
    "from IPython.display import display\n",
    "from IPython.display import Image\n",
    "import scipy.cluster.hierarchy as sch\n",
    "from scipy.stats import scoreatpercentile \n",
    "# import mpld3\n",
    "import pickle as pickle\n",
    "from optparse import OptionParser\n",
    "import sys\n",
    "sys.path.append('../../utilities')\n",
    "import scaTools as sca\n",
    "\n",
    "from graph_helpers import (\n",
    "   gen_amino_acid_position_in_ref_sequence_graph,\n",
    "   gen_clustered_similarity_matrix, \n",
    "   gen_unclustered_similarity_matrix,\n",
    "   gen_pairwise_sequence_identities\n",
    ")\n",
    "from helpers import (\n",
    "    show_processmsa_results,\n",
    "    seq_count_check\n",
    ")\n",
    "\n",
    "%matplotlib inline\n",
    "\n",
    "if not os.path.exists('../output/'):\n",
    "    os.makedirs('../output/')  "
   ]
  },
  {
   "cell_type": "code",
   "execution_count": null,
   "id": "37d95f3f",
   "metadata": {},
   "outputs": [],
   "source": [
    "input_pfam = '/home/bjohnson/rdb/Insig1/Insig1pfamalign.txt'\n",
    "output_pfam = '/home/bjohnson/rdb/Insig1/Insig1pfamalign-annotated.txt'\n",
    "pfam_seq = '/home/bjohnson/rdb/common/pfamseq.txt'\n",
    "#construct a dictionary of phylogenetic groups\n",
    "sca.AnnotPfam(input_pfam, output_pfam, pfam_seq=pfam_seq)\n",
    "print('Executed')"
   ]
  },
  {
   "cell_type": "code",
   "execution_count": null,
   "id": "6a9c8833",
   "metadata": {},
   "outputs": [],
   "source": []
  }
 ],
 "metadata": {
  "kernelspec": {
   "display_name": "Python 3 (ipykernel)",
   "language": "python",
   "name": "python3"
  },
  "language_info": {
   "codemirror_mode": {
    "name": "ipython",
    "version": 3
   },
   "file_extension": ".py",
   "mimetype": "text/x-python",
   "name": "python",
   "nbconvert_exporter": "python",
   "pygments_lexer": "ipython3",
   "version": "3.9.7"
  }
 },
 "nbformat": 4,
 "nbformat_minor": 5
}
