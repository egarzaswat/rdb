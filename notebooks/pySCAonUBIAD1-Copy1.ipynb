{
 "cells": [
  {
   "cell_type": "code",
   "execution_count": null,
   "id": "faf21133",
   "metadata": {},
   "outputs": [],
   "source": []
  },
  {
   "cell_type": "code",
   "execution_count": 49,
   "id": "1eeba10e",
   "metadata": {},
   "outputs": [],
   "source": [
    "# list of id numbers in ubiad1_blastmsa.aln\n",
    "\n",
    "f = open('../data/ubiad1_blastmsa.aln','r')\n",
    "\n",
    "ids = []\n",
    "for line in f.readlines():\n",
    "    \n",
    "    if line[0] == '>':\n",
    "        \n",
    "        sp_line = line.split('  ')\n",
    "        \n",
    "        ids.append(sp_line[0].split('|')[1])\n",
    "        \n",
    "f.close()\n",
    "\n",
    "f = open('../data/ubiad1_blastmsa_ids.txt','w')\n",
    "for l in ids:\n",
    "    f.write(l+'\\n')\n",
    "    \n",
    "f.close()"
   ]
  },
  {
   "cell_type": "markdown",
   "id": "b79b18f8",
   "metadata": {},
   "source": [
    "amino acid sequence of UBIAD1\n",
    "MAASQVLGEKINILSGETVKAGDRDPLGNDCPEQDRLPQRSWRQKCASYVLALRPWSFSASLTPVALGSALAYRSHGVLDPRLLVGCAVAVLAVHGAGNLVNTYYDFSKGIDHKKSDDRTLVDRILEPQDVVRFGVFLYTLGCVCAACLYYLSPLKLEHLALIYFGGLSGSFLYTGGIGFKYVALGDLIILITFGPLAVMFAYAIQVGSLAIFPLVYAIPLALSTEAILHSNNTRDMESDREAGIVTLAILIGPTFSYILYNTLLFLPYLVFSILATHCTISLALPLLTIPMAFSLERQFRSQAFNKLPQRTAKLNLLLGLFYVFGIILAPAGSLPKI"
   ]
  },
  {
   "cell_type": "code",
   "execution_count": 50,
   "id": "a63bb3b0",
   "metadata": {},
   "outputs": [
    {
     "name": "stdout",
     "output_type": "stream",
     "text": [
      "python annotateMSA -i /home/bjohnson/pySCA-master/data/ubiad1_blastmsa.aln -o /home/bjohnson/pySCA-master/output/ubia1_bj_211212.an -l /home/bjohnson/pySCA-master/data/ubiad1_blastmsa_ids.txt -a 'ncbi'\n"
     ]
    }
   ],
   "source": [
    "path2data = '/home/bjohnson/pySCA-master/data/ubiad1_blastmsa.aln' \n",
    "path2output = '/home/bjohnson/pySCA-master/output/ubia1_bj_211212.an'\n",
    "gis = '/home/bjohnson/pySCA-master/data/ubiad1_blastmsa_ids.txt'\n",
    "print('python annotateMSA -i %s -o %s -l %s -a %s' % (path2data, path2output,gis, \"'ncbi'\"))"
   ]
  },
  {
   "cell_type": "markdown",
   "id": "71609818",
   "metadata": {},
   "source": [
    "When analyzing the NCBI alignment of DHFR, one of the import arguments was a list of ID numbers (one for each DHFR sequence in DHFR_PEPM3.fasta). The name of this file is DHFR_PEPM3.gis. The purpose of these ID numbers is so that the annotateMSA.py script can query the species information about the sequence. What you will need to do is to create an analagous file for ubia1_bj_211212.txt. How this will work is that you will read this alignment, parse the header for the id number (XP_012329129.1), and then write it to the gis file. It should be the same length as the total number of sequences and the id numbers should be in the same exact order as in the original alignment file. "
   ]
  },
  {
   "cell_type": "markdown",
   "id": "f08e8b38",
   "metadata": {},
   "source": [
    "### Running scaProcessMSA on annotated MSA of UBIAD1"
   ]
  },
  {
   "cell_type": "code",
   "execution_count": 24,
   "id": "ac585a4a",
   "metadata": {
    "scrolled": true
   },
   "outputs": [],
   "source": [
    "# this does not work \n",
    "path2aln_processed = '/home/bjohnson/pySCA-master/data/ubiad1_blastmsa.aln'\n",
    "refseq = '/home/bjohnson/pySCA-master/data/ubiad1.fasta'\n",
    "pdb_id='4TQ6'\n",
    "path2out = '/home/bjohnson/pySCA-master/output/'\n",
    "\n",
    "#rint('python scaProcessMSA -a %s -d %s -s %s -c A' %(path2aln_processed,path2out,pdb_id))\n",
    "\n",
    "# -a takes output of annotateMSA, path2aln_processed\n",
    "# -d is where you want the result of scaProcessMSA to put a processed alignment\n",
    "# -s is the 4 character PDB ID\n",
    "# -b is path 2 pdb file\n"
   ]
  },
  {
   "cell_type": "code",
   "execution_count": 25,
   "id": "ae704acd",
   "metadata": {},
   "outputs": [
    {
     "name": "stdout",
     "output_type": "stream",
     "text": [
      "python scaProcessMSA -a /home/bjohnson/pySCA-master/data/ubiad1_blastmsa.aln -d /home/bjohnson/pySCA-master/output/ -i 0\n"
     ]
    }
   ],
   "source": [
    "## this works\n",
    "\n",
    "# we keep getting a \"something wrong with pdb file or pdb file path so let's try a reference sequence. \n",
    "#Inputting the actual reference sequence (ubiad1.fasta) did not work because ...\n",
    "# the length of this sequence does not match the length of the sequences in ubiad1_blastmsa.aln\n",
    "# Instead, I used the --iref input argument. this specifies which sequence WITHIN the alignment you want to \n",
    "\n",
    "print ('python scaProcessMSA -a %s -d %s -i 0' % (path2aln_processed, path2out))"
   ]
  },
  {
   "cell_type": "markdown",
   "id": "5d96d09c",
   "metadata": {},
   "source": [
    "### command line output of scaProcessMSA"
   ]
  },
  {
   "cell_type": "raw",
   "id": "0b035c4e",
   "metadata": {},
   "source": [
    "python scaProcessMSA -a /home/bjohnson/pySCA-master/data/ubiad1_blastmsa.aln -d /home/bjohnson/pySCA-master/output/ -i 0\n",
    "Loaded alignment of 100 sequences, 338 positions.\n",
    "Checking alignment for non-standard amino acids\n",
    "Aligment size after removing sequences with non-standard amino acids: 98\n",
    "Trimming alignment for highly gapped positions (80% or more).\n",
    "Alignment size post-trimming: 338 positions\n",
    "Looking for PDBs in home/bjohnson/pySCA-master/data/\n",
    "using provided reference index 0\n",
    "ref|NP_037451.1|  [chromosome=1] [organism=Homo sapiens] [gcode=1] [chromosome=1] [map=1p36.22] ubiA prenyltransferase domain-containing protein 1 isoform 1 [Homo sapiens]\n",
    "here!\n",
    "len refseq 338, len refpos 338, len algseq 338, len pairalg 338, len gloalg 338\n",
    "Conducting sequence and position filtering: alignment size is 98 seqs, 338 pos\n",
    "ATS should also have 338 positions - ATS: 338\n",
    "Keeping 98 sequences of 98 sequences (after filtering for gaps)\n",
    "Keeping 98 sequences of 98 sequences (after filtering for seq similarity)\n",
    "After filtering: alignment size is 98 seqs, 0 effective seqs, 337 pos\n",
    "Final alignment parameters:\n",
    "Number of sequences: M = 98\n",
    "Number of effective sequences: M' = 0\n",
    "Number of alignment positions: L = 337\n",
    "Opening database file /home/bjohnson/pySCA-master/output/ubiad1_blastms"
   ]
  },
  {
   "cell_type": "markdown",
   "id": "d5cf3a90",
   "metadata": {},
   "source": [
    "### Running SCA core on annotated MSA of UBIAD1"
   ]
  },
  {
   "cell_type": "code",
   "execution_count": 23,
   "id": "fb16199f",
   "metadata": {},
   "outputs": [
    {
     "name": "stdout",
     "output_type": "stream",
     "text": [
      "python scaCore -i /home/bjohnson/pySCA-master/output/ubiad1_blastmsa.db\n"
     ]
    }
   ],
   "source": [
    "path2db='/home/bjohnson/pySCA-master/output/ubiad1_blastmsa.db'\n",
    "\n",
    "print('python scaCore -i %s' %(path2db))\n"
   ]
  },
  {
   "cell_type": "markdown",
   "id": "554f0a27",
   "metadata": {},
   "source": [
    "### commmand line output of scaCORE"
   ]
  },
  {
   "cell_type": "raw",
   "id": "b6257562",
   "metadata": {},
   "source": [
    "(py3.7) bjohnson@LAPTOP-LU4A6UOR:~/pySCA-master/bin$ python scaCore -i /home/bjohnson/pySCA-master/output/ubiad1_blastmsa.db\n",
    "Computing the sequence projections.\n",
    "Computing sequence similarity matrix.\n",
    "Computing the SCA conservation and correlation values.\n",
    "Computing matrix randomizations...\n",
    "Randomizations complete, 10 trials, time: 0.9 minutes\n",
    "Calculations complete, writing to database file /home/bjohnson/pySCA-master/output/ubiad1_blastmsa"
   ]
  },
  {
   "cell_type": "code",
   "execution_count": null,
   "id": "8ff42374",
   "metadata": {},
   "outputs": [],
   "source": []
  }
 ],
 "metadata": {
  "kernelspec": {
   "display_name": "Python 3 (ipykernel)",
   "language": "python",
   "name": "python3"
  },
  "language_info": {
   "codemirror_mode": {
    "name": "ipython",
    "version": 3
   },
   "file_extension": ".py",
   "mimetype": "text/x-python",
   "name": "python",
   "nbconvert_exporter": "python",
   "pygments_lexer": "ipython3",
   "version": "3.9.7"
  }
 },
 "nbformat": 4,
 "nbformat_minor": 5
}
