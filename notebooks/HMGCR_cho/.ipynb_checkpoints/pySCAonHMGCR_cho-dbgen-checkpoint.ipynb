{
 "cells": [
  {
   "cell_type": "code",
   "execution_count": 6,
   "id": "ddb38a93",
   "metadata": {},
   "outputs": [],
   "source": [
    "#this defaults plots to matplotlib 1.0 formatting\n",
    "import matplotlib.style\n",
    "import matplotlib as mpl\n",
    "#mpl.style.use('classic')\n",
    "%matplotlib inline\n",
    "mpl.rcParams['figure.dpi']= 150\n",
    "\n",
    "# importing packages needed to run this script \n",
    "from subprocess import call\n",
    "import pickle as pickle\n",
    "%matplotlib inline\n",
    "import matplotlib.pyplot as plt\n",
    "import numpy as np\n",
    "import scipy.cluster.hierarchy as sch\n",
    "\n",
    "import os\n",
    "import time\n",
    "import matplotlib.pyplot as plt\n",
    "import numpy as np\n",
    "import copy\n",
    "import colorsys\n",
    "import requests\n",
    "import matplotlib.image as mpimg\n",
    "from IPython.display import display\n",
    "from IPython.display import Image\n",
    "import scipy.cluster.hierarchy as sch\n",
    "from scipy.stats import scoreatpercentile \n",
    "# import mpld3\n",
    "import pickle as pickle\n",
    "from optparse import OptionParser\n",
    "import sys\n",
    "sys.path.append('../../utilities')\n",
    "sys.path.append('..')\n",
    "from pysca import scaTools as sca\n",
    "from graph_helpers import (\n",
    "   gen_amino_acid_position_in_ref_sequence_graph,\n",
    "   gen_clustered_similarity_matrix, \n",
    "   gen_unclustered_similarity_matrix,\n",
    "   gen_pairwise_sequence_identities\n",
    ")\n",
    "from helpers import (\n",
    "    show_processmsa_results,\n",
    "    seq_count_check\n",
    ")\n",
    "\n",
    "%matplotlib inline"
   ]
  },
  {
   "cell_type": "code",
   "execution_count": 7,
   "id": "8354fe6c",
   "metadata": {
    "scrolled": true
   },
   "outputs": [
    {
     "name": "stdout",
     "output_type": "stream",
     "text": [
      "scaProcessMSA -a ./HMGCR_cho_alignment.fasta -d . -i 0\n",
      "Loaded alignment of 1555 sequences, 754 positions.\n",
      "Checking alignment for non-standard amino acids\n",
      "Aligment size after removing sequences with non-standard amino acids: 1555\n",
      "Trimming alignment for highly gapped positions (80% or more).\n",
      "1555\n",
      "Alignment size post-trimming: 754 positions\n",
      "Looking for PDBs in home/bjohnson/pySCA-master/data/\n",
      "using provided reference index 0\n",
      "P00347|3-hydroxy-3-methylglutaryl-coenzyme A reductase|Cricetulus griseus (Chinese hamster)|Eukaryota, Metazoa, Chordata, Craniata, Vertebrata, Euteleostomi, Mammalia, Eutheria, Euarchontoglires, Glires, Rodentia, Myomorpha, Muroidea, Cricetidae, Cricetinae, Cricetulus.\n",
      "here!\n",
      "len refseq 754, len refpos 754, len algseq 754, len pairalg 754, len gloalg 754\n",
      "Conducting sequence and position filtering: alignment size is 1555 seqs, 754 pos\n",
      "ATS should also have 754 positions - ATS: 754\n",
      "Keeping 1555 sequences of 1555 sequences (after filtering for gaps)\n",
      "Keeping 1555 sequences of 1555 sequences (after filtering for seq similarity)\n",
      "After filtering: alignment size is 1555 seqs, 135 effective seqs, 754 pos\n",
      "Final alignment parameters:\n",
      "Number of sequences: M = 1555\n",
      "Number of effective sequences: M' = 135\n",
      "Number of alignment positions: L = 754\n",
      "Opening database file /home/bjohnson/rdb/notebooks/HMGCR_cho/HMGCR_cho_alignment\n",
      "Executed\n"
     ]
    }
   ],
   "source": [
    "path2aln_processed = './HMGCR_cho_alignment.fasta'\n",
    "path2out = '.'\n",
    "command =  str('scaProcessMSA -a %s -d %s -i 0' % (path2aln_processed, path2out))\n",
    "print(command)\n",
    "call(command,shell = 'True')\n",
    "print(\"Executed\")"
   ]
  },
  {
   "cell_type": "code",
   "execution_count": 8,
   "id": "5594953a",
   "metadata": {},
   "outputs": [],
   "source": [
    "dbname = \"HMGCR_cho_alignment.db\"\n",
    "pickle_path = './HMGCR_cho_alignment.db'\n",
    "db = pickle.load(open(pickle_path,'rb'))\n",
    "Dseq = db['sequence']"
   ]
  },
  {
   "cell_type": "code",
   "execution_count": 9,
   "id": "2d5d1362",
   "metadata": {
    "scrolled": true
   },
   "outputs": [
    {
     "name": "stdout",
     "output_type": "stream",
     "text": [
      "*****Final processed alignment parameters****\n",
      "Number of sequences: M = 1555\n",
      "Number of effective sequences: M' = 135\n",
      "Number of alignment positions: L = 754\n",
      "Number of positions in the ats: 754\n",
      "Number of structure positions mapped: 754\n",
      "Missing key distmat\n",
      "****************************************\n"
     ]
    }
   ],
   "source": [
    "show_processmsa_results(Dseq)"
   ]
  },
  {
   "cell_type": "code",
   "execution_count": 10,
   "id": "867ae096",
   "metadata": {},
   "outputs": [
    {
     "name": "stdout",
     "output_type": "stream",
     "text": [
      "The number of effective sequences in this MSA is: 135\n",
      "This alignment has a sufficient number of effective sequences for analysis with SCA.\n",
      "Npos (L) = 754\n"
     ]
    }
   ],
   "source": [
    "# check for sufficient sequences in alignment\n",
    "seq_count_check(Dseq)"
   ]
  },
  {
   "cell_type": "code",
   "execution_count": 11,
   "id": "089cba7a",
   "metadata": {},
   "outputs": [
    {
     "name": "stdout",
     "output_type": "stream",
     "text": [
      "scaCore -i ./HMGCR_cho_alignment.db\n",
      "Computing the sequence projections.\n",
      "Computing sequence similarity matrix.\n",
      "Computing the SCA conservation and correlation values.\n",
      "Computing matrix randomizations...\n",
      "Randomizations complete, 10 trials, time: 4.4 minutes\n",
      "Calculations complete, writing to database file /home/bjohnson/rdb/notebooks/HMGCR_cho/HMGCR_cho_alignment\n",
      "Executed\n"
     ]
    }
   ],
   "source": [
    "# Apply scaCore to our processed alignment \n",
    "command = 'scaCore -i %s' % (pickle_path)\n",
    "print (command)\n",
    "call(command, shell = 'True')\n",
    "db = pickle.load(open(pickle_path,'rb'))\n",
    "Dsca = db['sca']\n",
    "print(\"Executed\")"
   ]
  },
  {
   "cell_type": "code",
   "execution_count": 12,
   "id": "f3292853",
   "metadata": {},
   "outputs": [
    {
     "name": "stdout",
     "output_type": "stream",
     "text": [
      "scaSectorID -i ./HMGCR_cho_alignment.db\n",
      "Selected kpos=16 significant eigenmodes.\n",
      "Calculations complete, writing to database file /home/bjohnson/rdb/notebooks/HMGCR_cho/HMGCR_cho_alignment\n",
      "Executed\n"
     ]
    }
   ],
   "source": [
    "# run scaSectorID \n",
    "command = 'scaSectorID -i %s' % (pickle_path)\n",
    "print (command)\n",
    "call(command, shell = 'True')\n",
    "\n",
    "# Load and store results of scaSectorID\n",
    "db = pickle.load(open(pickle_path,'rb'))\n",
    "Dsect = db['sector'] \n",
    "print(\"Executed\")"
   ]
  },
  {
   "cell_type": "code",
   "execution_count": null,
   "id": "8a1743fb",
   "metadata": {},
   "outputs": [],
   "source": []
  }
 ],
 "metadata": {
  "kernelspec": {
   "display_name": "Python 3 (ipykernel)",
   "language": "python",
   "name": "python3"
  },
  "language_info": {
   "codemirror_mode": {
    "name": "ipython",
    "version": 3
   },
   "file_extension": ".py",
   "mimetype": "text/x-python",
   "name": "python",
   "nbconvert_exporter": "python",
   "pygments_lexer": "ipython3",
   "version": "3.9.13"
  }
 },
 "nbformat": 4,
 "nbformat_minor": 5
}
